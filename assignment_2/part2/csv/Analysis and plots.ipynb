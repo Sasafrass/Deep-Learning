{
 "cells": [
  {
   "cell_type": "markdown",
   "metadata": {},
   "source": [
    "# Part 2 Analysis"
   ]
  },
  {
   "cell_type": "code",
   "execution_count": 1,
   "metadata": {},
   "outputs": [],
   "source": [
    "# imports\n",
    "import numpy as np\n",
    "import pandas as pd\n",
    "from matplotlib import pyplot as plt"
   ]
  },
  {
   "cell_type": "code",
   "execution_count": 2,
   "metadata": {},
   "outputs": [
    {
     "data": {
      "text/html": [
       "<div>\n",
       "<style scoped>\n",
       "    .dataframe tbody tr th:only-of-type {\n",
       "        vertical-align: middle;\n",
       "    }\n",
       "\n",
       "    .dataframe tbody tr th {\n",
       "        vertical-align: top;\n",
       "    }\n",
       "\n",
       "    .dataframe thead th {\n",
       "        text-align: right;\n",
       "    }\n",
       "</style>\n",
       "<table border=\"1\" class=\"dataframe\">\n",
       "  <thead>\n",
       "    <tr style=\"text-align: right;\">\n",
       "      <th></th>\n",
       "      <th>0</th>\n",
       "      <th>1000</th>\n",
       "      <th>2000</th>\n",
       "      <th>3000</th>\n",
       "      <th>4000</th>\n",
       "      <th>5000</th>\n",
       "      <th>6000</th>\n",
       "      <th>7000</th>\n",
       "      <th>8000</th>\n",
       "      <th>9000</th>\n",
       "      <th>...</th>\n",
       "      <th>11000</th>\n",
       "      <th>12000</th>\n",
       "      <th>13000</th>\n",
       "      <th>14000</th>\n",
       "      <th>15000</th>\n",
       "      <th>16000</th>\n",
       "      <th>17000</th>\n",
       "      <th>18000</th>\n",
       "      <th>19000</th>\n",
       "      <th>20000</th>\n",
       "    </tr>\n",
       "  </thead>\n",
       "  <tbody>\n",
       "    <tr>\n",
       "      <th>0</th>\n",
       "      <td>Ltsstststststststststststststs</td>\n",
       "      <td>We the prome the prome the pro</td>\n",
       "      <td>: The State the property of th</td>\n",
       "      <td>Massions of the constitution o</td>\n",
       "      <td>Zeaded to the propersed to the</td>\n",
       "      <td>) the provincial produce the p</td>\n",
       "      <td>*t I have already to the same</td>\n",
       "      <td>me to the present the present</td>\n",
       "      <td>The Americans of the present t</td>\n",
       "      <td>President of the people is the</td>\n",
       "      <td>...</td>\n",
       "      <td>6, the same power of the Union</td>\n",
       "      <td>$100 inhabitants of the United</td>\n",
       "      <td>50, the propensities of the pe</td>\n",
       "      <td>[Footnote e: The constitution</td>\n",
       "      <td>re the contrary to the people</td>\n",
       "      <td>In the United States the provi</td>\n",
       "      <td>) the property of the people i</td>\n",
       "      <td>, and the present time the pri</td>\n",
       "      <td>judicial power of the country,</td>\n",
       "      <td>y are the same time and the pr</td>\n",
       "    </tr>\n",
       "    <tr>\n",
       "      <th>1</th>\n",
       "      <td>0.0015625</td>\n",
       "      <td>0.4322916666666667</td>\n",
       "      <td>0.5057291666666667</td>\n",
       "      <td>0.5479166666666667</td>\n",
       "      <td>0.5588541666666667</td>\n",
       "      <td>0.5854166666666667</td>\n",
       "      <td>0.6015625</td>\n",
       "      <td>0.60625</td>\n",
       "      <td>0.63125</td>\n",
       "      <td>0.621875</td>\n",
       "      <td>...</td>\n",
       "      <td>0.5958333333333333</td>\n",
       "      <td>0.6135416666666667</td>\n",
       "      <td>0.6354166666666666</td>\n",
       "      <td>0.6380208333333334</td>\n",
       "      <td>0.6385416666666667</td>\n",
       "      <td>0.6260416666666667</td>\n",
       "      <td>0.6416666666666667</td>\n",
       "      <td>0.640625</td>\n",
       "      <td>0.634375</td>\n",
       "      <td>0.6380208333333334</td>\n",
       "    </tr>\n",
       "    <tr>\n",
       "      <th>2</th>\n",
       "      <td>4.407275199890137</td>\n",
       "      <td>1.9764295816421509</td>\n",
       "      <td>1.7093149423599243</td>\n",
       "      <td>1.5703866481781006</td>\n",
       "      <td>1.5139076709747314</td>\n",
       "      <td>1.3956652879714966</td>\n",
       "      <td>1.3480470180511475</td>\n",
       "      <td>1.2825530767440796</td>\n",
       "      <td>1.246370553970337</td>\n",
       "      <td>1.2057173252105713</td>\n",
       "      <td>...</td>\n",
       "      <td>1.3213860988616943</td>\n",
       "      <td>1.2449554204940796</td>\n",
       "      <td>1.2127952575683594</td>\n",
       "      <td>1.2114405632019043</td>\n",
       "      <td>1.1954089403152466</td>\n",
       "      <td>1.2053916454315186</td>\n",
       "      <td>1.1460354328155518</td>\n",
       "      <td>1.1892640590667725</td>\n",
       "      <td>1.20821213722229</td>\n",
       "      <td>1.1550028324127197</td>\n",
       "    </tr>\n",
       "  </tbody>\n",
       "</table>\n",
       "<p>3 rows × 21 columns</p>\n",
       "</div>"
      ],
      "text/plain": [
       "                                0                            1000  \\\n",
       "0  Ltsstststststststststststststs  We the prome the prome the pro   \n",
       "1                       0.0015625              0.4322916666666667   \n",
       "2               4.407275199890137              1.9764295816421509   \n",
       "\n",
       "                             2000                            3000  \\\n",
       "0  : The State the property of th  Massions of the constitution o   \n",
       "1              0.5057291666666667              0.5479166666666667   \n",
       "2              1.7093149423599243              1.5703866481781006   \n",
       "\n",
       "                             4000                            5000  \\\n",
       "0  Zeaded to the propersed to the  ) the provincial produce the p   \n",
       "1              0.5588541666666667              0.5854166666666667   \n",
       "2              1.5139076709747314              1.3956652879714966   \n",
       "\n",
       "                             6000                            7000  \\\n",
       "0  *t I have already to the same   me to the present the present    \n",
       "1                       0.6015625                         0.60625   \n",
       "2              1.3480470180511475              1.2825530767440796   \n",
       "\n",
       "                             8000                            9000  \\\n",
       "0  The Americans of the present t  President of the people is the   \n",
       "1                         0.63125                        0.621875   \n",
       "2               1.246370553970337              1.2057173252105713   \n",
       "\n",
       "                ...                                         11000  \\\n",
       "0               ...                6, the same power of the Union   \n",
       "1               ...                            0.5958333333333333   \n",
       "2               ...                            1.3213860988616943   \n",
       "\n",
       "                            12000                           13000  \\\n",
       "0  $100 inhabitants of the United  50, the propensities of the pe   \n",
       "1              0.6135416666666667              0.6354166666666666   \n",
       "2              1.2449554204940796              1.2127952575683594   \n",
       "\n",
       "                            14000                           15000  \\\n",
       "0  [Footnote e: The constitution   re the contrary to the people    \n",
       "1              0.6380208333333334              0.6385416666666667   \n",
       "2              1.2114405632019043              1.1954089403152466   \n",
       "\n",
       "                            16000                           17000  \\\n",
       "0  In the United States the provi  ) the property of the people i   \n",
       "1              0.6260416666666667              0.6416666666666667   \n",
       "2              1.2053916454315186              1.1460354328155518   \n",
       "\n",
       "                            18000                           19000  \\\n",
       "0  , and the present time the pri  judicial power of the country,   \n",
       "1                        0.640625                        0.634375   \n",
       "2              1.1892640590667725                1.20821213722229   \n",
       "\n",
       "                            20000  \n",
       "0  y are the same time and the pr  \n",
       "1              0.6380208333333334  \n",
       "2              1.1550028324127197  \n",
       "\n",
       "[3 rows x 21 columns]"
      ]
     },
     "execution_count": 2,
     "metadata": {},
     "output_type": "execute_result"
    }
   ],
   "source": [
    "df = pd.read_csv(\"checking3.csv\")\n",
    "df"
   ]
  },
  {
   "cell_type": "code",
   "execution_count": null,
   "metadata": {},
   "outputs": [],
   "source": []
  },
  {
   "cell_type": "code",
   "execution_count": 27,
   "metadata": {},
   "outputs": [],
   "source": [
    "def plotter(file):\n",
    "    # read df\n",
    "    df = pd.read_csv(file, header = None)\n",
    "    \n",
    "    # read specific rows\n",
    "    steps = df.iloc[0,:].astype(int)\n",
    "    sentences = df.iloc[1,:]\n",
    "    accuracies = df.iloc[2,:].astype(float)\n",
    "    losses = df.iloc[3,:].astype(float)\n",
    "    \n",
    "    # Plot accuracies and losses\n",
    "    \n",
    "    # Create subplots\n",
    "    fig, (ax1, ax2) = plt.subplots(1,2,figsize = (12,4))\n",
    "    \n",
    "    # Everything for accuracy plot\n",
    "    ax1.plot(steps, accuracies, 'g-', label = \"Accuracy\")\n",
    "    ax1.legend()\n",
    "    ax1.set_title(\"Accuracy\")\n",
    "    ax1.set_xlabel(\"Steps\")\n",
    "    ax1.set_ylabel(\"Accuracy\")\n",
    "\n",
    "    # Everything for loss plot\n",
    "    ax2.plot(steps, losses, 'r-' ,label = \"Loss\")\n",
    "    ax2.legend()\n",
    "    ax2.set_title(\"Loss\")\n",
    "    ax2.set_xlabel('Steps')\n",
    "    ax2.set_ylabel(\"Loss\")\n",
    "\n",
    "    # Save figure\n",
    "    plt.savefig('plots/' + file + '.png', format='png', bbox_inches = 'tight', pad_inches = 0)\n"
   ]
  },
  {
   "cell_type": "code",
   "execution_count": 28,
   "metadata": {},
   "outputs": [
    {
     "data": {
      "image/png": "[encoded data removed]",
      "text/plain": [
       "<Figure size 864x288 with 2 Axes>"
      ]
     },
     "metadata": {},
     "output_type": "display_data"
    }
   ],
   "source": [
    "plotter(\"checking3.csv\")"
   ]
  },
  {
   "cell_type": "code",
   "execution_count": 29,
   "metadata": {},
   "outputs": [],
   "source": [
    "df = pd.read_csv(\"democracy-lisa.csv\", header = None)"
   ]
  },
  {
   "cell_type": "code",
   "execution_count": 30,
   "metadata": {},
   "outputs": [],
   "source": [
    "# For 500,000 timesteps in chunks of 10,000\n",
    "#df.iloc[1,np.arange(0,500, 10)]"
   ]
  },
  {
   "cell_type": "code",
   "execution_count": 31,
   "metadata": {},
   "outputs": [
    {
     "data": {
      "text/plain": [
       "0       sGGGG                         \n",
       "1       ut the was the was the was the\n",
       "2       just the said the said the sai\n",
       "3       /long the was and the was and \n",
       "4       Little took the tailor so that\n",
       "5       he seen the second and the sec\n",
       "6       Carter to the world to the wor\n",
       "7       VEN AND THE SANTILES FORSE THE\n",
       "8       f the second was a little man \n",
       "9       y the starts of the way on the\n",
       "10     R THE TOLE SOOTEL\\n     THE BER\n",
       "11      @plear of the way on the secon\n",
       "12      re the second day the second d\n",
       "13      zel that he was a strange to d\n",
       "14      One day the star-gazers were a\n",
       "15      He and the seven might be a st\n",
       "16    915.  THE GOLDEN GOOSE\\n\\nThere \n",
       "17      . The mother said, ‘I will soo\n",
       "18      e was a good day, and the sear\n",
       "19     $     THE WHITE SNAKE\\n     THE\n",
       "20      just as she was a little way o\n",
       "21      1.E.8.  Do not see the courtya\n",
       "22      e to the tower and said: ‘I wi\n",
       "23      Project Gutenberg-tm electroni\n",
       "24      ; and the man was a great fell\n",
       "25      5.  If an is a country all the\n",
       "26      Now, he said, ‘I will give you\n",
       "27      On the stars were still all th\n",
       "28      ) and the seven lived him and \n",
       "29      The king was as if the fire an\n",
       "30      ” The king was still all the s\n",
       "31      ver the work was still all the\n",
       "32      -tm License where the princess\n",
       "33      Fox and the seven dish of the \n",
       "34      f the water and said: ‘I have \n",
       "35      7 and the cook was to be the w\n",
       "36      the wood, and the soldier had \n",
       "37      joy, and the soldier thought t\n",
       "38      812 now the golden castle of L\n",
       "39      ; and the son was so much that\n",
       "Name: 1, dtype: object"
      ]
     },
     "execution_count": 31,
     "metadata": {},
     "output_type": "execute_result"
    }
   ],
   "source": [
    "df = pd.read_csv(\"grimm.csv\", header = None)\n",
    "df.iloc[1,np.arange(0,40,1)]"
   ]
  },
  {
   "cell_type": "code",
   "execution_count": null,
   "metadata": {},
   "outputs": [],
   "source": []
  },
  {
   "cell_type": "code",
   "execution_count": 32,
   "metadata": {},
   "outputs": [
    {
     "data": {
      "image/png": "[encoded data removed]",
      "text/plain": [
       "<Figure size 864x288 with 2 Axes>"
      ]
     },
     "metadata": {},
     "output_type": "display_data"
    }
   ],
   "source": [
    "plotter(\"democracy2.csv\")"
   ]
  },
  {
   "cell_type": "code",
   "execution_count": null,
   "metadata": {},
   "outputs": [],
   "source": [
    "## df = pd.read_csv(\"democracy2.csv\", header = None)\n",
    "df.iloc[1,np.arange(2,1000,100)]"
   ]
  },
  {
   "cell_type": "code",
   "execution_count": 64,
   "metadata": {},
   "outputs": [
    {
     "data": {
      "text/plain": [
       "21     XVIII: Future the European cau\n",
       "121    86), to submit to the executo \n",
       "221    789, and they are more worthy \n",
       "321    You and the right of promises \n",
       "421    Europeans are then ten years t\n",
       "Name: 1, dtype: object"
      ]
     },
     "execution_count": 64,
     "metadata": {},
     "output_type": "execute_result"
    }
   ],
   "source": [
    "df = pd.read_csv(\"democracy-temp2.csv\", header = None)\n",
    "df.iloc[1,np.arange(21,502,100)]"
   ]
  },
  {
   "cell_type": "code",
   "execution_count": 119,
   "metadata": {},
   "outputs": [
    {
     "data": {
      "text/plain": [
       "9      judicial power of the United States are the same property in the United States are the same property in the United State\n",
       "110    be adopted by the press is not the same principles which are the same principles which are the same principles which are\n",
       "211    1830, in the same political principle of the people is not always been asserted that the present time is a constitution \n",
       "312    $1,000 will offers the most powerful and more perfect instruments of the country in the United States the principles of \n",
       "413    790 the most permanent to the same state of things which they are the same principles of the Union are the constitutiona\n",
       "Name: 1, dtype: object"
      ]
     },
     "execution_count": 119,
     "metadata": {},
     "output_type": "execute_result"
    }
   ],
   "source": [
    "pd.options.display.max_colwidth = 150\n",
    "df = pd.read_csv(\"democracy-120.csv\", header = None)\n",
    "df.iloc[1,np.arange(9,500,101)]"
   ]
  },
  {
   "cell_type": "code",
   "execution_count": 128,
   "metadata": {},
   "outputs": [
    {
     "data": {
      "text/plain": [
       "30     President of the U\n",
       "130    50 to 1,000 miles \n",
       "230    in the constitutio\n",
       "330    Footnote a: The so\n",
       "430    English and the pr\n",
       "Name: 1, dtype: object"
      ]
     },
     "execution_count": 128,
     "metadata": {},
     "output_type": "execute_result"
    }
   ],
   "source": [
    "df = pd.read_csv(\"democracy-18.csv\", header = None)\n",
    "df.iloc[1,np.arange(30,500,100)]"
   ]
  },
  {
   "cell_type": "markdown",
   "metadata": {},
   "source": [
    "# Temperature implementation"
   ]
  },
  {
   "cell_type": "code",
   "execution_count": 103,
   "metadata": {},
   "outputs": [
    {
     "data": {
      "text/plain": [
       "10      : See \"The State of the condit\n",
       "110     very power are the same countr\n",
       "210     Indian nations of Europe their\n",
       "310     But the execution of the peopl\n",
       "410    @pgetic Democracy in America.\\n\n",
       "Name: 1, dtype: object"
      ]
     },
     "execution_count": 103,
     "metadata": {},
     "output_type": "execute_result"
    }
   ],
   "source": [
    "df = pd.read_csv(\"democracy-temp2.csv\", header = None)\n",
    "df.iloc[1,np.arange(10,500,100)]"
   ]
  },
  {
   "cell_type": "code",
   "execution_count": 118,
   "metadata": {},
   "outputs": [
    {
     "data": {
      "text/plain": [
       "400    , tra-soude as every clam; but\n",
       "Name: 1, dtype: object"
      ]
     },
     "execution_count": 118,
     "metadata": {},
     "output_type": "execute_result"
    }
   ],
   "source": [
    "df = pd.read_csv(\"democracy-temp05.csv\", header = None)\n",
    "df.iloc[1,np.arange(400,500,100)]"
   ]
  },
  {
   "cell_type": "code",
   "execution_count": 151,
   "metadata": {},
   "outputs": [
    {
     "data": {
      "text/plain": [
       "6       8862, but which they foundabtl\n",
       "106    ject to control indigens the\\np\n",
       "206     American vegetted that the e-o\n",
       "306     States is perpetually taken in\n",
       "406    quality of justice, and\\nthe em\n",
       "Name: 1, dtype: object"
      ]
     },
     "execution_count": 151,
     "metadata": {},
     "output_type": "execute_result"
    }
   ],
   "source": [
    "df = pd.read_csv(\"democracy-01.csv\", header = None)\n",
    "df.iloc[1,np.arange(6,500,100)]"
   ]
  },
  {
   "cell_type": "markdown",
   "metadata": {},
   "source": [
    "# Elise dataset"
   ]
  },
  {
   "cell_type": "code",
   "execution_count": 165,
   "metadata": {},
   "outputs": [
    {
     "data": {
      "text/plain": [
       "21     🦍\\n[26/10/2019, 00:06:06] Elise\n",
       "31     ?\\n[26/10/2019, 23:33:33] Elise\n",
       "41      . Dat is echt een keer een kee\n",
       "51     n de bak\\n[26/10/2019, 00:55:55\n",
       "61      🍑🍑🍑🍑🍑🍑🌭🌭🌭🌭🌭🌭🌭🌭🌭🌭🌭🌭🌭🌭🌭🌭🌭🌭🌭🌭🌭🌭🌭🌭\n",
       "71     👅\\n[05/10/2019, 23:59:45] Elise\n",
       "81     😻\\n[29/10/2019, 17:27:49] Elise\n",
       "91     🤮\\n[06/09/2019, 00:34:11] Elise\n",
       "101    🤟🏼😎😎😎\\n[26/10/2019, 23:29:23] E\n",
       "111    🦟\\n[09/11/2019, 01:14:40] Elise\n",
       "121    Û KOM DAN\\n[26/10/2019, 00:00:2\n",
       "131    😭😭😭😭😭😭😭😭😭😭😭😭😭😭😭😭😭😭😭😭😭😭😭😭😭😭😭😭😭\\n\n",
       "141    hahahahahaha\\n[26/10/2019, 00:0\n",
       "151    🏻‍🎨\\n[17/09/2019, 00:05:07] Eli\n",
       "161    💝💖💕💗\\n[21/10/2019, 17:29:00] El\n",
       "171    😦🍔🍔🍔🍔🍔🍔🍔🍔🍔🍔\\n[29/09/2019, 19:36\n",
       "181    únieteleal\\n[26/10/2019, 00:09:\n",
       "191     2019, 17:22:48] Elise ❤️: Haha\n",
       "201    😲\\n[26/10/2019, 10:56:36] Elise\n",
       "211    🐖\\n[16/10/2019, 12:28:50] Alber\n",
       "221    🗿\\n[18/11/2019, 13:28:58] Alber\n",
       "231    😐\\n[28/10/2019, 23:38:31] Alber\n",
       "Name: 1, dtype: object"
      ]
     },
     "execution_count": 165,
     "metadata": {},
     "output_type": "execute_result"
    }
   ],
   "source": [
    "df = pd.read_csv(\"elise.csv\", header = None)\n",
    "df.iloc[1,np.arange(21,239,10)]"
   ]
  },
  {
   "cell_type": "code",
   "execution_count": null,
   "metadata": {},
   "outputs": [],
   "source": []
  }
 ],
 "metadata": {
  "kernelspec": {
   "display_name": "Python 3",
   "language": "python",
   "name": "python3"
  },
  "language_info": {
   "codemirror_mode": {
    "name": "ipython",
    "version": 3
   },
   "file_extension": ".py",
   "mimetype": "text/x-python",
   "name": "python",
   "nbconvert_exporter": "python",
   "pygments_lexer": "ipython3",
   "version": "3.6.4"
  }
 },
 "nbformat": 4,
 "nbformat_minor": 2
}
