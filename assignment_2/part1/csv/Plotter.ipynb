{
 "cells": [
  {
   "cell_type": "markdown",
   "metadata": {},
   "source": [
    "# Vanilla RNN in PyTorch - Accuracy Plots"
   ]
  },
  {
   "cell_type": "code",
   "execution_count": 104,
   "metadata": {},
   "outputs": [],
   "source": [
    "import numpy as np\n",
    "import pandas as pd\n",
    "import matplotlib.pyplot as plt"
   ]
  },
  {
   "cell_type": "code",
   "execution_count": 105,
   "metadata": {},
   "outputs": [],
   "source": [
    "# Takes in a filename, plots a graph and saves a fig\n",
    "def plotter(file):\n",
    "    \n",
    "    # Create df\n",
    "    df = pd.read_csv(file, header = None)\n",
    "    \n",
    "    # Seq length and accuracies\n",
    "    input_length = df.iloc[0, :]\n",
    "    accuracies   = df.iloc[1, :]\n",
    "    print(input_length)\n",
    "    \n",
    "    # Scatter plot\n",
    "    plt.scatter(input_length, accuracies)\n",
    "    \n",
    "    # Save fig\n",
    "    plt.savefig(file + '.png', format='png', bbox_inches = 'tight', pad_inches = 0)"
   ]
  },
  {
   "cell_type": "markdown",
   "metadata": {},
   "source": [
    "# First bunch of RNN"
   ]
  },
  {
   "cell_type": "code",
   "execution_count": 106,
   "metadata": {},
   "outputs": [
    {
     "name": "stdout",
     "output_type": "stream",
     "text": [
      "0     5.0\n",
      "1     6.0\n",
      "2     8.0\n",
      "3    10.0\n",
      "4    12.0\n",
      "5    14.0\n",
      "6    16.0\n",
      "7    18.0\n",
      "8    20.0\n",
      "Name: 0, dtype: float64\n"
     ]
    },
    {
     "data": {
      "image/png": "[encoded data removed]",
      "text/plain": [
       "<Figure size 432x288 with 1 Axes>"
      ]
     },
     "metadata": {},
     "output_type": "display_data"
    }
   ],
   "source": [
    "file = \"accuracies-rnn-lowseq.csv\"\n",
    "plotter(file)"
   ]
  },
  {
   "cell_type": "markdown",
   "metadata": {},
   "source": [
    "# Second bunch of RNN"
   ]
  },
  {
   "cell_type": "code",
   "execution_count": 107,
   "metadata": {},
   "outputs": [
    {
     "name": "stdout",
     "output_type": "stream",
     "text": [
      "0     5.0\n",
      "1    10.0\n",
      "2    20.0\n",
      "3    40.0\n",
      "4    80.0\n",
      "Name: 0, dtype: float64\n"
     ]
    },
    {
     "data": {
      "image/png": "[encoded data removed]",
      "text/plain": [
       "<Figure size 432x288 with 1 Axes>"
      ]
     },
     "metadata": {},
     "output_type": "display_data"
    }
   ],
   "source": [
    "file = \"accuracies-rnn-highseq.csv\"\n",
    "plotter(file)"
   ]
  },
  {
   "cell_type": "markdown",
   "metadata": {},
   "source": [
    "# First bunch of LSTM"
   ]
  },
  {
   "cell_type": "code",
   "execution_count": 108,
   "metadata": {},
   "outputs": [
    {
     "name": "stdout",
     "output_type": "stream",
     "text": [
      "0     5.0\n",
      "1     6.0\n",
      "2     8.0\n",
      "3    10.0\n",
      "4    12.0\n",
      "5    14.0\n",
      "6    16.0\n",
      "7    18.0\n",
      "8    20.0\n",
      "Name: 0, dtype: float64\n"
     ]
    },
    {
     "data": {
      "image/png": "[encoded data removed]",
      "text/plain": [
       "<Figure size 432x288 with 1 Axes>"
      ]
     },
     "metadata": {},
     "output_type": "display_data"
    }
   ],
   "source": [
    "plotter(\"accuracies-lstm-lowseq.csv\")"
   ]
  },
  {
   "cell_type": "code",
   "execution_count": 109,
   "metadata": {},
   "outputs": [
    {
     "name": "stdout",
     "output_type": "stream",
     "text": [
      "0     5.0\n",
      "1    10.0\n",
      "2    20.0\n",
      "3    25.0\n",
      "4    40.0\n",
      "5    80.0\n",
      "Name: 0, dtype: float64\n"
     ]
    },
    {
     "data": {
      "image/png": "[encoded data removed]",
      "text/plain": [
       "<Figure size 432x288 with 1 Axes>"
      ]
     },
     "metadata": {},
     "output_type": "display_data"
    }
   ],
   "source": [
    "plotter(\"accuracies-lstm-highseq.csv\")"
   ]
  },
  {
   "cell_type": "markdown",
   "metadata": {},
   "source": [
    "# Second bunch of LSTM"
   ]
  },
  {
   "cell_type": "code",
   "execution_count": 110,
   "metadata": {},
   "outputs": [
    {
     "name": "stdout",
     "output_type": "stream",
     "text": [
      "0     5.0\n",
      "1    10.0\n",
      "2    20.0\n",
      "3    25.0\n",
      "4    40.0\n",
      "5    80.0\n",
      "Name: 0, dtype: float64\n"
     ]
    },
    {
     "data": {
      "image/png": "[encoded data removed]",
      "text/plain": [
       "<Figure size 432x288 with 1 Axes>"
      ]
     },
     "metadata": {},
     "output_type": "display_data"
    }
   ],
   "source": [
    "plotter(\"lstm2.csv\")"
   ]
  },
  {
   "cell_type": "code",
   "execution_count": null,
   "metadata": {},
   "outputs": [],
   "source": []
  },
  {
   "cell_type": "markdown",
   "metadata": {},
   "source": [
    "# Gradient plots"
   ]
  },
  {
   "cell_type": "code",
   "execution_count": 111,
   "metadata": {
    "scrolled": true
   },
   "outputs": [
    {
     "data": {
      "text/html": [
       "<div>\n",
       "<style scoped>\n",
       "    .dataframe tbody tr th:only-of-type {\n",
       "        vertical-align: middle;\n",
       "    }\n",
       "\n",
       "    .dataframe tbody tr th {\n",
       "        vertical-align: top;\n",
       "    }\n",
       "\n",
       "    .dataframe thead th {\n",
       "        text-align: right;\n",
       "    }\n",
       "</style>\n",
       "<table border=\"1\" class=\"dataframe\">\n",
       "  <thead>\n",
       "    <tr style=\"text-align: right;\">\n",
       "      <th></th>\n",
       "      <th>0</th>\n",
       "      <th>1</th>\n",
       "      <th>2</th>\n",
       "      <th>3</th>\n",
       "      <th>4</th>\n",
       "      <th>5</th>\n",
       "      <th>6</th>\n",
       "      <th>7</th>\n",
       "      <th>8</th>\n",
       "      <th>9</th>\n",
       "      <th>...</th>\n",
       "      <th>90</th>\n",
       "      <th>91</th>\n",
       "      <th>92</th>\n",
       "      <th>93</th>\n",
       "      <th>94</th>\n",
       "      <th>95</th>\n",
       "      <th>96</th>\n",
       "      <th>97</th>\n",
       "      <th>98</th>\n",
       "      <th>99</th>\n",
       "    </tr>\n",
       "  </thead>\n",
       "  <tbody>\n",
       "    <tr>\n",
       "      <th>0</th>\n",
       "      <td>0.000000e+00</td>\n",
       "      <td>1.000000e+00</td>\n",
       "      <td>2.000000e+00</td>\n",
       "      <td>3.000000e+00</td>\n",
       "      <td>4.000000e+00</td>\n",
       "      <td>5.000000e+00</td>\n",
       "      <td>6.000000e+00</td>\n",
       "      <td>7.000000e+00</td>\n",
       "      <td>8.000000e+00</td>\n",
       "      <td>9.000000e+00</td>\n",
       "      <td>...</td>\n",
       "      <td>90.000000</td>\n",
       "      <td>91.000000</td>\n",
       "      <td>92.000000</td>\n",
       "      <td>93.000000</td>\n",
       "      <td>94.000000</td>\n",
       "      <td>95.00000</td>\n",
       "      <td>96.000000</td>\n",
       "      <td>97.000000</td>\n",
       "      <td>98.000000</td>\n",
       "      <td>99.000000</td>\n",
       "    </tr>\n",
       "    <tr>\n",
       "      <th>1</th>\n",
       "      <td>1.567298e-17</td>\n",
       "      <td>2.064216e-17</td>\n",
       "      <td>2.744465e-17</td>\n",
       "      <td>3.641129e-17</td>\n",
       "      <td>4.807240e-17</td>\n",
       "      <td>6.389272e-17</td>\n",
       "      <td>8.478968e-17</td>\n",
       "      <td>1.123435e-16</td>\n",
       "      <td>1.481477e-16</td>\n",
       "      <td>1.966307e-16</td>\n",
       "      <td>...</td>\n",
       "      <td>0.000002</td>\n",
       "      <td>0.000003</td>\n",
       "      <td>0.000004</td>\n",
       "      <td>0.000006</td>\n",
       "      <td>0.000008</td>\n",
       "      <td>0.00001</td>\n",
       "      <td>0.000014</td>\n",
       "      <td>0.000019</td>\n",
       "      <td>0.000026</td>\n",
       "      <td>0.001066</td>\n",
       "    </tr>\n",
       "  </tbody>\n",
       "</table>\n",
       "<p>2 rows × 100 columns</p>\n",
       "</div>"
      ],
      "text/plain": [
       "             0             1             2             3             4   \\\n",
       "0  0.000000e+00  1.000000e+00  2.000000e+00  3.000000e+00  4.000000e+00   \n",
       "1  1.567298e-17  2.064216e-17  2.744465e-17  3.641129e-17  4.807240e-17   \n",
       "\n",
       "             5             6             7             8             9   \\\n",
       "0  5.000000e+00  6.000000e+00  7.000000e+00  8.000000e+00  9.000000e+00   \n",
       "1  6.389272e-17  8.478968e-17  1.123435e-16  1.481477e-16  1.966307e-16   \n",
       "\n",
       "     ...             90         91         92         93         94        95  \\\n",
       "0    ...      90.000000  91.000000  92.000000  93.000000  94.000000  95.00000   \n",
       "1    ...       0.000002   0.000003   0.000004   0.000006   0.000008   0.00001   \n",
       "\n",
       "          96         97         98         99  \n",
       "0  96.000000  97.000000  98.000000  99.000000  \n",
       "1   0.000014   0.000019   0.000026   0.001066  \n",
       "\n",
       "[2 rows x 100 columns]"
      ]
     },
     "execution_count": 111,
     "metadata": {},
     "output_type": "execute_result"
    }
   ],
   "source": [
    "lstmdf = pd.read_csv(\"lstmnorm.csv\", header = None)\n",
    "lstmdf"
   ]
  },
  {
   "cell_type": "code",
   "execution_count": 112,
   "metadata": {},
   "outputs": [
    {
     "data": {
      "text/plain": [
       "Text(0.5,0,'Timestep (Reverse Order)')"
      ]
     },
     "execution_count": 112,
     "metadata": {},
     "output_type": "execute_result"
    },
    {
     "data": {
      "image/png": "[encoded data removed]",
      "text/plain": [
       "<Figure size 432x288 with 1 Axes>"
      ]
     },
     "metadata": {},
     "output_type": "display_data"
    }
   ],
   "source": [
    "lstmtime = lstmdf.iloc[0,:]\n",
    "lstmnorm = (lstmdf.iloc[1,:])\n",
    "plt.plot(lstmtime, lstmnorm)\n",
    "#plt.ylim(0,0.000000001)\n",
    "plt.ylabel(\"Norm of Gradient Vector\")\n",
    "plt.xlim(100,0)\n",
    "plt.xlabel(\"Timestep (Reverse Order)\")"
   ]
  },
  {
   "cell_type": "code",
   "execution_count": 113,
   "metadata": {},
   "outputs": [
    {
     "data": {
      "text/plain": [
       "Text(0.5,0,'Timestep (Reverse Order)')"
      ]
     },
     "execution_count": 113,
     "metadata": {},
     "output_type": "execute_result"
    },
    {
     "data": {
      "image/png": "[encoded data removed]",
      "text/plain": [
       "<Figure size 432x288 with 1 Axes>"
      ]
     },
     "metadata": {},
     "output_type": "display_data"
    }
   ],
   "source": [
    "rnndf = pd.read_csv(\"rnnnorm.csv\", header = None)\n",
    "rnntime = rnndf.iloc[0,:]\n",
    "rnnnorm = (rnndf.iloc[1,:])\n",
    "plt.plot(rnntime, rnnnorm)\n",
    "#plt.ylim(0,0.000000001)\n",
    "plt.ylabel(\"Norm of Gradient Vector\")\n",
    "plt.xlim(100, 0)\n",
    "\n",
    "plt.xlabel(\"Timestep (Reverse Order)\")"
   ]
  },
  {
   "cell_type": "code",
   "execution_count": 115,
   "metadata": {},
   "outputs": [
    {
     "data": {
      "image/png": "[encoded data removed]",
      "text/plain": [
       "<Figure size 432x288 with 1 Axes>"
      ]
     },
     "metadata": {},
     "output_type": "display_data"
    }
   ],
   "source": [
    "plt.plot(rnntime, (rnnnorm),'--', label = \"RNN\")\n",
    "plt.plot(rnntime, lstmnorm, '--', label = \"LSTM\")\n",
    "plt.xlim(100,0)\n",
    "plt.legend()\n",
    "plt.yscale(\"log\")\n",
    "plt.ylabel(\"Norm of Gradient Vector (log scale)\")\n",
    "plt.xlabel(\"Timestep (Reverse Order)\")\n",
    "plt.savefig('gradients.png', format='png', bbox_inches = 'tight', pad_inches = 0)"
   ]
  },
  {
   "cell_type": "code",
   "execution_count": null,
   "metadata": {},
   "outputs": [],
   "source": []
  },
  {
   "cell_type": "code",
   "execution_count": null,
   "metadata": {},
   "outputs": [],
   "source": []
  }
 ],
 "metadata": {
  "kernelspec": {
   "display_name": "Python 3",
   "language": "python",
   "name": "python3"
  },
  "language_info": {
   "codemirror_mode": {
    "name": "ipython",
    "version": 3
   },
   "file_extension": ".py",
   "mimetype": "text/x-python",
   "name": "python",
   "nbconvert_exporter": "python",
   "pygments_lexer": "ipython3",
   "version": "3.6.4"
  }
 },
 "nbformat": 4,
 "nbformat_minor": 2
}
